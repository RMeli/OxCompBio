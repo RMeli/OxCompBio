{
 "cells": [
  {
   "cell_type": "markdown",
   "metadata": {},
   "source": [
    "# <span style='color:darkred'> 2 Protein Visualization </span>\n",
    "***\n",
    "\n",
    "For the purposes of this tutorial, we will use the HIV-1 protease structure (PDB ID: 1HSG). It is a homodimer with two chains of 99 residues each. Before starting to perform any simulations and data analysis, we need to observe and familiarize with the protein of interest.\n",
    "\n",
    "There are various software packages for visualizing molecular systems, but here we will guide you through using two of those; NGLView and VMD:\n",
    "\n",
    "* [NGLView](http://nglviewer.org/#nglview): An IPython/Jupyter widget to interactively view molecular structures and trajectories.\n",
    "* [VMD](https://www.ks.uiuc.edu/Research/vmd/): VMD is a molecular visualization program for displaying, animating, and analyzing large biomolecular systems using 3-D graphics and built-in scripting.\n",
    "\n",
    "You could either take your time to familiarize with both, or select which one you prefer to delve into.\n",
    "NGLView is great for looking at things directly within a jupyter notebook, but VMD can be a more powerful tool for visualizing, generating high quality images and videos, but also analysing simulation trajectories. \n"
   ]
  },
  {
   "cell_type": "markdown",
   "metadata": {},
   "source": [
    "## <span style='color:darkred'> 2.0 Obtain the protein structure </span>\n",
    "\n",
    "The first step is to obtain the crystal structure of the HIV-1 protease.\n",
    "\n",
    "Start your web-browser and go to the [protein data bank](https://www.rcsb.org/). Enter the pdb code 1HSG in the site search box at the top and hit the site search button. The protein should come up. Select download from the top right hand menu and save the .pdb file to the current working directory."
   ]
  },
  {
   "cell_type": "markdown",
   "metadata": {},
   "source": [
    "\n",
    "## <span style='color:darkred'> 2.1 VMD (optional) </span>\n",
    "\n",
    "You can now open the pdb structure with VMD (the following file name might be uppercase depending on how you downloaded it):\n",
    "\n",
    "`% vmd 1hsg.pdb`\n",
    "\n",
    "You should experiment with the menu system and try various representations of the protein such as `Trace`, `NewCartoon` and `Ribbons` for example.\n",
    "\n",
    "Go to `Graphics` and then `Graphical Representations` and from the `Drawing Method` drop-down list, select `Trace`. Similarly, you can explore other drawing methods.\n",
    "\n",
    "<span style='color:Blue'> **Questions**  </span>\n",
    "\n",
    "* Can you find the indinavir drug? \n",
    "\n",
    "*Hint: At the `Graphical Representations` menu, click `Create Rep` and type \"all and not protein\" and hit Enter. Change the `Drawing Method` to `Licorice`.*\n",
    "\n",
    "* Give the protein the Trace representation and then make the polar residues in vdw format as an additional representation. Repeat with the hydrophobic residues. What do you notice?\n",
    "\n",
    "*Hint: Explore the `Selections` tab and the options provided as singlewords.*\n",
    "\n",
    "*Hint: To hide a representation, double-click on it. Double-click again if you want to make it reappear.*\n",
    "\n",
    "Take your time to explore the features of VMD and to observe the protein. Once you are happy, you can exit VMD, either by clicking on `File` and then `Quit` or by typing `quit` in the terminal box.\n",
    "\n",
    "***"
   ]
  },
  {
   "cell_type": "markdown",
   "metadata": {},
   "source": [
    "## <span style='color:darkred'> 2.2 NGLView </span>"
   ]
  },
  {
   "cell_type": "markdown",
   "metadata": {},
   "source": [
    "You have already been introduced to NGLView during the Python tutorial. You can now spend more time to navigate through its features."
   ]
  },
  {
   "cell_type": "code",
   "execution_count": null,
   "metadata": {},
   "outputs": [],
   "source": [
    "# Import NGLView\n",
    "import nglview\n",
    "\n",
    "# Select as your protein the 1HSG pdb entry\n",
    "protein_view = nglview.show_pdbid('1hsg')\n",
    "protein_view.gui_style = 'ngl'\n",
    "\n",
    "#Uncomment the command below to add a hyperball representation of the crystal water oxygens in grey\n",
    "#protein_view.add_hyperball('HOH', color='grey', opacity=1.0)\n",
    "\n",
    "#Uncomment the command below to color the protein according to its secondary structure with opacity 0.6\n",
    "#protein_view.update_cartoon(color='sstruc', opacity=0.6)\n",
    "\n",
    "# Let's change the display a little bit\n",
    "protein_view.parameters = dict(camera_type='orthographic', clip_dist=0)\n",
    "\n",
    "# Set the background colour to black\n",
    "protein_view.background = 'black'\n",
    "\n",
    "# Call protein_view to visualise the trajectory\n",
    "protein_view"
   ]
  },
  {
   "cell_type": "markdown",
   "metadata": {},
   "source": [
    "<span style='color:Blue'> **Questions**  </span>\n",
    "\n",
    "* When you load the structure, can you see the two subunits that form the dimer?\n",
    "\n",
    "\n",
    "* Can you locate the drug in the binding pocket?\n",
    "\n",
    "*Hint: Go to `View` and then `Full screen` to expand the viewing window.*\n",
    "\n",
    "* Can you hide all the other representations and view only the drug?\n",
    "\n",
    "*Hint: Use your mouse to rotate, translate and zoom in and out.*\n",
    "\n",
    "*Hint: You can hide/show a representation by clicking on the \"eye\" symbol on the right panel.*\n",
    "\n",
    "***\n",
    "\n",
    "Explore the [NGLView documentation](http://nglviewer.org/nglview/latest/api.html), and play around with different representations, selections, colors etc. Take as much time as you want in this step.\n",
    "\n",
    "***\n",
    "\n",
    "## <span style='color:darkred'> Next Step </span>\n",
    "\n",
    "You can now open the `03_Running_an_MD_simulation.ipynb` notebook to setup and perform a Molecular Dynamics simulation of your protein."
   ]
  }
 ],
 "metadata": {
  "kernelspec": {
   "display_name": "Python 3",
   "language": "python",
   "name": "python3"
  },
  "language_info": {
   "codemirror_mode": {
    "name": "ipython",
    "version": 3
   },
   "file_extension": ".py",
   "mimetype": "text/x-python",
   "name": "python",
   "nbconvert_exporter": "python",
   "pygments_lexer": "ipython3",
   "version": "3.7.8"
  }
 },
 "nbformat": 4,
 "nbformat_minor": 1
}
