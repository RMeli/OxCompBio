{
 "cells": [
  {
   "cell_type": "markdown",
   "metadata": {},
   "source": [
    "# <span style='color:darkred'> 1 Introduction </span>\n",
    "***\n",
    "\n",
    "## <span style='color:darkred'>1.1 Objectives and Description </span>\n",
    "\n",
    "\n",
    "This practical is designed as an introduction to the Molecular Dynamics (MD) method and aims to demonstrate what sorts of questions and problems occur when simulating proteins and to also give you an idea of what type of information we can extract from a simulated protein system.\n",
    "\n",
    "It is divided into five  parts, i.e, five jupyter notebooks. Here is an overview of what each of these contains. \n",
    "\n",
    "* `00-Setup.ipynb`\n",
    "Hopefully, you have already gone through this notebook, as it essential for everything that follows. You should have already installed all the software packages that you need for the tutorial and are familiar with how to use the ARCUS cluster and how to transfer your files to your laptop. If you haven't already read it, please go back and make sure everything is setup!\n",
    "\n",
    "\n",
    "* `01_Introduction.ipynb`\n",
    "This is the notebook you are reading now and only aims to provide introductory information on the MD tutorial.\n",
    "\n",
    "\n",
    "* `02_Protein_Visualization.ipynb`\n",
    "This section aims to introduce you both with the system that you will be called to simulate and explore, the HIV-1 protease, and at the same time to allow you to familiarize with the [NGLView](http://nglviewer.org/#nglview) Jupyter/IPython widget to interactively view molecular structures and trajectories in notebooks and/or the [VMD](https://www.ks.uiuc.edu/Research/vmd/) software for visualization of Molecular Dynamics simulation trajectories. The use of VMD is optional, as it depends on whether you have managed to install it on your laptop.\n",
    "\n",
    "\n",
    "* `03_Running_an_MD_simulation.ipynb`\n",
    "This notebook will guide you to setup a system that will contain the protein in a box of water, energy minimize it and perform a Molecular Dynamics simulation, using the [GROMACS](http://www.gromacs.org/) MD package. You will also utilise some of the built-in GROMACS tools to perform some initial analysis.\n",
    "\n",
    "\n",
    "* `04_Trajectory_Analysis.ipynb` and `04_Trajectory_Analysis_Solutions.ipynb`\n",
    "The final notebook will hopefully show you some types of information that we can gain from a MD trajectory, show you how to use [MDAnalysis](https://www.mdanalysis.org/) and [matplotlib](https://matplotlib.org/) to obtain and plot the data and will encourage you to think about how to interpret the data that you have obtained. If you get stuck or confused, you can look for help in the 04_Trajectory_Analysis_Solutions notebook.\n",
    "***\n",
    "## <span style='color:darkred'> Next Step </span>\n",
    "\n",
    "You can now open the `02_Protein_Visualization.ipynb` notebook and start working through the tutorial.\n",
    "\n"
   ]
  }
 ],
 "metadata": {
  "kernelspec": {
   "display_name": "Python 3",
   "language": "python",
   "name": "python3"
  },
  "language_info": {
   "codemirror_mode": {
    "name": "ipython",
    "version": 3
   },
   "file_extension": ".py",
   "mimetype": "text/x-python",
   "name": "python",
   "nbconvert_exporter": "python",
   "pygments_lexer": "ipython3",
   "version": "3.7.8"
  }
 },
 "nbformat": 4,
 "nbformat_minor": 1
}
