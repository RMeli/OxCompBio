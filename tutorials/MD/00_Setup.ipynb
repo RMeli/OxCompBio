{
 "cells": [
  {
   "cell_type": "markdown",
   "metadata": {},
   "source": [
    "# 0. Setup instructions for the MD course"
   ]
  },
  {
   "cell_type": "markdown",
   "metadata": {},
   "source": [
    "This notebook contains the necessary instructions to make sure you have the correct software installed in order to complete the MD course.\n",
    "\n",
    "We assume here that you first looked at the `setup.md` prior to opening this notebook. If not, please do so now."
   ]
  },
  {
   "cell_type": "markdown",
   "metadata": {},
   "source": [
    "## 0.1 Tutorial practicalities"
   ]
  },
  {
   "cell_type": "markdown",
   "metadata": {},
   "source": [
    "## 0.1.1 Terminal (command line) instructions"
   ]
  },
  {
   "cell_type": "markdown",
   "metadata": {},
   "source": [
    "Quite frequently in this tutorial you will be asked to run certain commands in your terminal, something which is also often known as \"command line instructions\".\n",
    "\n",
    "To make it clear as to what we expect you to type in your terminal, we add an \"%\" before the instruction. However this \"%\" should not be included.\n",
    "\n",
    "For example:\n",
    "\n",
    "```\n",
    "% echo \"test\"\n",
    "```\n",
    "\n",
    "Is asking you to type `echo \"test\"` + \"Enter\" in your terminal.\n",
    "\n",
    "Should these commands be confusing, please do not hesitate to ask one of the demonstrators at any point."
   ]
  },
  {
   "cell_type": "markdown",
   "metadata": {},
   "source": [
    "## 0.2 Using ARCUS-HTC"
   ]
  },
  {
   "cell_type": "markdown",
   "metadata": {},
   "source": [
    "In this course we will be using Oxford's Advanced Research Computing high performance cluster ARCUS-HTC in order to run GROMACS simulations.\n",
    "\n",
    "We suggest that you have a look at the ARC [Quick Start Guide](https://www.arc.ox.ac.uk/getting-started-guide) before continuing. The instructions provided here will repeat some of the basic details of the guide, but in much less detail."
   ]
  },
  {
   "cell_type": "markdown",
   "metadata": {},
   "source": [
    "### 0.2.1 Getting an ARC account"
   ]
  },
  {
   "cell_type": "markdown",
   "metadata": {},
   "source": [
    "We will be providing attendees of the Oxford Computational Biochemistry course with guest login accounts for ARCUS. Details, which include usernames and passwords, will be sent to you prior to the start of the course. We ask that you keep these details secure and that you do not share them.\n",
    "\n",
    "If you already have an ARCUS account, we still suggest that you use these guest accounts as we have obtained a specific reservation for the course which will allow you to run the simulations with minimal queuing time."
   ]
  },
  {
   "cell_type": "markdown",
   "metadata": {},
   "source": [
    "### 0.2.2 Connecting to ARCUS-HTC"
   ]
  },
  {
   "cell_type": "markdown",
   "metadata": {},
   "source": [
    "**Important Note - in all instances order to connect to the ARC computers you must be logged into the University VPN**\n",
    "\n",
    "As detailed in the [Quick Start Guide](https://www.arc.ox.ac.uk/getting-started-guide) access to ARCUS-HTC is achieved via the \"secure shell\" (SSH) protocol.\n",
    "\n",
    "SSH essentially allows you to securely access another computer via a network (i.e. the internet).\n",
    "\n",
    "Generally when using a machine like ARCUS-HTC, SSH access is achieved through the use of a terminal. The way in which this is done differs based on the type of computer you have. Here we will provide two separate set of instructions for setting up and testing connecting with ARCUS. Please follow the instructions which are appropriate to your computer."
   ]
  },
  {
   "cell_type": "markdown",
   "metadata": {},
   "source": [
    "### 0.2.2.1 linux/macOS\n",
    "\n",
    "On linux/macOS connections to ARCUS can be done directly from the built-in terminal through the `ssh` command:\n",
    "\n",
    "```\n",
    "% ssh username@oscgate.arc.ox.ac.uk \n",
    "```\n",
    "\n",
    "Where `username` is your guest login account username. This will prompt you with a password (the one which was allocated to you alongside your guest account) which you will then enter:\n",
    "\n",
    "\n",
    "![oscgate-password.png](images/setup/ssh/oscgate-password-ssh.png)\n",
    "\n",
    "_note: as you can see my username here has been osbcured by a grey bar_\n",
    "\n",
    "On first login you may get a message with similar wording to:\n",
    "\n",
    "`The authenticity of host 'arcus-htc (10.137.128.21)' can't be established. RSA key fingerprint is d1:83:21:b1:f2:bd:???:cd:74:d1:73:???:?a., Are you sure you want to continue connecting (yes/no)?`\n",
    "\n",
    "In this case this is perfectly normal, please type `yes` and press \"Enter\". This may also happen when you log into `arcus-htc`.\n",
    "\n",
    "This connects you to `oscgate` the gateway computer for accessing ARC resources.\n",
    "In other words, it's the computer you log into in order to log into other computers owned by ARC.\n",
    "\n",
    "\n",
    "![oscgate-login.png](images/setup/ssh/oscgate-login-ssh.png)\n",
    "\n",
    "\n",
    "On login, you should then follow with:\n",
    "\n",
    "```\n",
    "% ssh arcus-htc\n",
    "```\n",
    "\n",
    "If successful you should find yourself in your home directory on the ARCUS-HTC computer where we will be running our jobs for the MD tutorial.\n",
    "\n",
    "\n",
    "![arcus-login.png](images/setup/ssh/arcus-htc-login-ssh.png)\n",
    "\n",
    "\n",
    "Typing:\n",
    "\n",
    "```\n",
    "% pwd\n",
    "```\n",
    "\n",
    "Should return: `/home/username` where `username` is your account username.\n",
    "\n",
    "This confirms that you are properly connected.\n",
    "\n",
    "Next we are going to create a file on ARCUS so that we can then test our ability to copy files back from ARCUS to our own computer.\n",
    "\n",
    "To do this we use the echo command:\n",
    "\n",
    "```\n",
    "% echo \"Hello World\" > file.txt\n",
    "```\n",
    "\n",
    "To make sure the file exists you can `more` the file to see its contents\n",
    "\n",
    "```\n",
    "% more file.txt\n",
    "```\n",
    "\n",
    "\n",
    "![ssh-helloworld.png](images/setup/ssh/ssh-helloworld.png)\n",
    "\n",
    "\n",
    "At this point, we are going to exit ARCUS. This is done by either completely closing the terminal or typing\n",
    "\n",
    "```\n",
    "% exit\n",
    "```\n",
    "\n",
    "twice\n",
    "\n",
    "\n",
    "![arcus-exist.png](images/setup/ssh/arcus-ssh-exit.png)\n",
    "\n",
    "\n",
    "Finally, we are going to test our ability to transfer files from ARCUS to our own computer. To do this we use the `scp` command which securely copies files from one computer to another:\n",
    "\n",
    "```\n",
    "% scp username@oscgate.arc.ox.ac.uk:/home/username/file.txt .\n",
    "```\n",
    "\n",
    "Where `username` is the guest account username that you were provided.\n",
    "\n",
    "If this works you should see that you now have a file named `file.txt` in the folder your terminal is currently in.\n",
    "\n",
    "\n",
    "![arcs-scp.png](images/setup/ssh/scp-arcus.png)\n",
    "\n"
   ]
  },
  {
   "cell_type": "markdown",
   "metadata": {},
   "source": [
    "### 0.2.2.2 Windows\n",
    "\n",
    "Unlike linux/macOS, Windows does not natively support SSH connections from its terminal.\n",
    "\n",
    "Instead we have to install software to do this. Our (and ARC's) recommended solution here is [MobaXterm](https://mobaxterm.mobatek.net/).\n",
    "\n",
    "Upon installation and opening, MobaXterm will look something like this:\n",
    "\n",
    "\n",
    "![mobaxterm-main.png](images/setup/mobaxterm/mobaxterm-main.png)\n",
    "\n",
    "\n",
    "From there, we can start a new SSH session by clicking on `session`:\n",
    "\n",
    "\n",
    "![mobaxterm-session-ssh.png](images/setup/mobaxterm/mobaxterm-session-ssh.png)\n",
    "\n",
    "\n",
    "We then click on `SSH`:\n",
    "\n",
    "\n",
    "![mobaxterm-ssh-settings.png](images/setup/mobaxterm/mobaxterm-ssh-settings.png)\n",
    "\n",
    "\n",
    "We then find ourselves with a page with two fields to fill in, `Remote Host` and (once the tickbox is clicked) `Specify Username`.\n",
    "\n",
    "Here you would put `oscgate.arc.ox.ac.uk` as the entry for `Remote Host`, and your ARCUS guest account login name for `Specify Username`.\n",
    "\n",
    "Then press \"OK\" to start the ssh connection.\n",
    "\n",
    "Immediately you will be asked for a password, here put in the password you have been given.\n",
    "\n",
    "You should now be logged into `oscgate` the gateway computer for accessing ARC resources.\n",
    "In other words, it's the computer you log into in order to log into other computers owned by ARC.\n",
    "\n",
    "\n",
    "![oscgate-login.png](images/setup/ssh/oscgate-login-ssh.png)\n",
    "\n",
    "\n",
    "On first login you may get message with similar wording to:\n",
    "\n",
    "`The authenticity of host 'arcus-htc (10.137.128.21)' can't be established. RSA key fingerprint is d1:83:21:b1:f2:bd:???:cd:74:d1:73:???:?a., Are you sure you want to continue connecting (yes/no)?`\n",
    "\n",
    "In this case this is perfectly normal, please type `yes` and press \"Enter\". This may also happen when you log into `arcus-htc`.\n",
    "\n",
    "On login, you should then follow with:\n",
    "\n",
    "```\n",
    "% ssh arcus-htc\n",
    "```\n",
    "\n",
    "\n",
    "If successful you should find yourself in your home directory on the ARCUS-HTC computer where we will be running our jobs for the MD tutorial.\n",
    "\n",
    "\n",
    "![arcus-login.png](images/setup/ssh/arcus-htc-login-ssh.png)\n",
    "\n",
    "\n",
    "Typing:\n",
    "\n",
    "```\n",
    "% pwd\n",
    "```\n",
    "\n",
    "Should return: `/home/username` where `username` is your account username.\n",
    "\n",
    "This confirms that you are properly connected.\n",
    "\n",
    "Next we are going to create a file on ARCUS so that we can then test our ability to copy files back from ARCUS to our own computer.\n",
    "\n",
    "To do this we use the echo command:\n",
    "\n",
    "```\n",
    "% echo \"Hello World\" > file.txt\n",
    "```\n",
    "\n",
    "To make sure the file exists you can `more` the file to see its contents\n",
    "\n",
    "```\n",
    "% more file.txt\n",
    "```\n",
    "\n",
    "\n",
    "![ssh-helloworld.png](images/setup/ssh/ssh-helloworld.png)\n",
    "\n",
    "\n",
    "Copying a file is also different on Windows compared to linux/macOS. Instead of having to use `scp`, we can directly use the file browser within MobaXterm which should be present as a panel on the left side of the MobaXterm window.\n",
    "\n",
    "\n",
    "![mobaxterm-browser](images/setup/mobaxterm/mobaxterm-browser.png)\n",
    "\n",
    "\n",
    "You can directly drag a file/folder from this file browser into a folder in your computer to download it.\n",
    "\n",
    "Finally just open the file to check that you have downloaded it properly.\n",
    "\n",
    "\n",
    "![mobaxterm-ftp](images/setup/mobaxterm/mobaxterm-ftp.png)\n",
    "\n",
    "\n",
    "Now we need to exit, to do so on MobaXterm all you need to do is press the red `Exit` button on the top right hand side of the terminal.\n",
    "\n",
    "\n",
    "![mobaxterm-exit](images/setup/mobaxterm/mobaxterm-exit.png)\n",
    "\n"
   ]
  },
  {
   "cell_type": "markdown",
   "metadata": {},
   "source": [
    "## 0.3 VMD (optional)"
   ]
  },
  {
   "cell_type": "markdown",
   "metadata": {},
   "source": [
    "\n",
    "\n",
    "![VMD main](images/setup/vmd.png)\n",
    "\n",
    "\n",
    "[VMD](https://www.ks.uiuc.edu/Research/vmd/) is a powerful tool for the visualisation of molecular systems. It can be obtained from the [VMD download page](https://www.ks.uiuc.edu/Development/Download/download.cgi?PackageName=VMD).\n",
    "\n",
    "Unfortunately due to issues with various operating systems, VMD is often difficult to install (for example, it is not currently officially supported on macOS Catalina or Big Sur). The exercises which use VMD will therefore be optional. As an alternative molecular viewer, we will be using [NGLView](http://nglviewer.org/nglview/latest/api.html).\n",
    "\n",
    "Nevertheless, we encourage you to try to install it if possible. VMD is one of the most widely used tools for biomolecular simulation visualisation and analysis. Being able to use it here would provide you with a good opportunity to familiarise yourself with some of its many features within the context of this tutorial.\n",
    "\n",
    "Due to the complexities of installing VMD, we leave it up to you to decide if you wish to do so and also to work out how to install it for your own computer. Unfortunately due to the large variations in the installation process between computers, it is possible that we will be unable to offer advice for your own computer setup."
   ]
  }
 ],
 "metadata": {
  "kernelspec": {
   "display_name": "Python 3",
   "language": "python",
   "name": "python3"
  },
  "language_info": {
   "codemirror_mode": {
    "name": "ipython",
    "version": 3
   },
   "file_extension": ".py",
   "mimetype": "text/x-python",
   "name": "python",
   "nbconvert_exporter": "python",
   "pygments_lexer": "ipython3",
   "version": "3.7.7"
  }
 },
 "nbformat": 4,
 "nbformat_minor": 4
}
