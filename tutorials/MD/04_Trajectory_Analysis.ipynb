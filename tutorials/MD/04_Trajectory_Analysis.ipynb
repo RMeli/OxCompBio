{
 "cells": [
  {
   "cell_type": "markdown",
   "metadata": {},
   "source": [
    "# <span style='color:darkred'> 4 Trajectory Analysis </span>\n",
    "\n",
    "***"
   ]
  },
  {
   "cell_type": "markdown",
   "metadata": {},
   "source": [
    "**<span style='color:darkred'> Important Note </span>**\n",
    "\n",
    "Before proceeding to the rest of the analysis, it is a good time to define a path that points to the location of the MD simulation data, which we will analyze here.\n",
    "\n",
    "If you successfully ran the MD simulation, the correct path should be:"
   ]
  },
  {
   "cell_type": "code",
   "execution_count": null,
   "metadata": {},
   "outputs": [],
   "source": [
    "# Execute the cell to define the path to your simulation files\n",
    "path=\"OxCompBio-Datafiles/run\""
   ]
  },
  {
   "cell_type": "markdown",
   "metadata": {},
   "source": [
    "If however, you need/want to use the data from the simulation that has been already performed, uncomment the command below to instead define the path that points to the prerun simulation."
   ]
  },
  {
   "cell_type": "code",
   "execution_count": 2,
   "metadata": {},
   "outputs": [],
   "source": [
    "# Uncomment the line below and execute the cell to define the path to the prerun simulation files\n",
    "#path=\"OxCompBio-Datafiles/prerun/run\""
   ]
  },
  {
   "cell_type": "markdown",
   "metadata": {},
   "source": [
    "## <span style='color:darkred'> 4.1 Visualize the simulation </span>\n",
    "\n",
    "The simplest and easiest type of analysis you should always do is to look at it with your eyes! Your eyes will tell you if something strange is happening immediately. A numerical analysis may not.\n",
    "\n",
    "### <span style='color:darkred'>  4.1.1 VMD </span>\n",
    "\n",
    "*Note: Again, this step is optional. If you don't have VMD, go to section 4.1.2 below to visualize the trajectory with NGLView instead.*\n",
    "\n",
    "Let us look at the simulations on VMD.\n",
    "\n",
    "Open your vmd, by typing on your terminal:\n",
    "\n",
    "`% vmd`\n",
    "\n",
    "When it has finished placing all the windows on the screen. Click on `File` in the VMD main menu window and select `New Molecule`. The Molecule File Browser window should appear. Click on `Browse...` then select the `OxCompBio-Datafiles` and then the `run` directory and finally select `em.gro` (i.e. the file you made that has protein system energy minimized). Click `OK` and then click `Load`. It should load up the starting coordinates into the main window. Then click `Browse...` in the Molecule File Browser window. Select again the `OxCompBio-Datafiles`, then the `run` directory and then `md.xtc`. Select `OK` and then hit `Load`. The trajectory should start loading into the main VMD window. \n",
    "\n",
    "Although things will be moving, you can see that it is quite difficult to visualize the individual components. That is one of the problems with simulating such large and complicated systems. VMD makes it quite easy to look at individual components of a system. For example, let us consider the protein only. On the VMD Main menu, left-click on Graphics and select `Representations`. A new menu will appear (`Graphical Representations`). In the box entitled `Selected Atoms` type protein and hit enter. Only those atoms that form part of the protein are now selected. Various other selections and drawing methods will help to visualize different aspects of the simulation. "
   ]
  },
  {
   "cell_type": "markdown",
   "metadata": {},
   "source": [
    "<span style='color:Blue'> **Questions**  </span> \n",
    "\n",
    "* How would you say the protein behaves? \n",
    "\n",
    "\n",
    "* Is it doing anything unexpected? What would you consider unexpected behaviour?\n",
    "\n",
    "\n",
    "* Can you add representations for the ASP and the ARG residues only? Can you observe if they form any inter-subunit interactions? We will quantify those later on."
   ]
  },
  {
   "cell_type": "markdown",
   "metadata": {},
   "source": [
    "### <span style='color:darkred'> 4.1.2 NGLView </span>\n"
   ]
  },
  {
   "cell_type": "markdown",
   "metadata": {},
   "source": [
    "You have already tested NGLView at the Python tutorial (Notebook `12_ProteinAnalysis`) and at the beginning of this tutorial. This time however, you can visualize the trajectory you generated after carrying out the MD simulation.\n",
    "\n",
    "You should also be familiar now with the MDAnalysis Python library that we will use to analyze the MD trajectory. We will also use it below, to create a Universe and load it on NGLView."
   ]
  },
  {
   "cell_type": "code",
   "execution_count": null,
   "metadata": {},
   "outputs": [],
   "source": [
    "# Import MDAnalysis and NGLView\n",
    "import MDAnalysis\n",
    "import nglview\n",
    "\n",
    "# Load the protein structure and the trajectory as a universe named protein\n",
    "protein=MDAnalysis.Universe(f\"{path}/em.gro\", f\"{path}/md_fit.xtc\")\n",
    "protein_view = nglview.show_mdanalysis(protein)\n",
    "protein_view.gui_style = 'ngl'\n",
    "\n",
    "#Color the protein based on its secondary structure\n",
    "protein_view.update_cartoon(color='sstruc')\n",
    "protein_view"
   ]
  },
  {
   "cell_type": "markdown",
   "metadata": {},
   "source": [
    "<span style='color:Blue'> **Questions**  </span> \n",
    "\n",
    "* How would you say the protein behaves? \n",
    "\n",
    "\n",
    "* Is it doing anything unexpected? What would you consider unexpected behaviour?\n",
    "\n",
    "\n",
    "* Can you add representations for the ASP and the ARG residues only? Can you observe if they form any inter-subunit interactions? We will quantify those later on."
   ]
  },
  {
   "cell_type": "markdown",
   "metadata": {},
   "source": [
    "Now that we are sure the simulation is not doing anything ridiculous, we can start to ask questions about the simulation. The first thing to establish is whether the simulation has equilibrated to some state. So what are some measures of the system\n",
    "being equilibrated? And what can we use to test the reliability of the simulation?"
   ]
  },
  {
   "cell_type": "markdown",
   "metadata": {},
   "source": [
    "## <span style='color:darkred'> 4.2 System Equilibration </span> "
   ]
  },
  {
   "cell_type": "markdown",
   "metadata": {},
   "source": [
    "### <span style='color:darkred'> 4.2.1 Temperature fluctuation </span>\n",
    "\n",
    "The system temperature as a function of time was calculated in the previous section, with the built-in GROMACS tool `gmx energy`, but we still have not looked at it. It is now time to plot the temperature *vs* time and assess the results.\n",
    "\n",
    "<span style='color:Blue'> **Questions**  </span> \n",
    "\n",
    "* Does the temperature fluctuate around an equilibrium  value?\n",
    "\n",
    "\n",
    "* Does this value correspond to the temperature that we predefined in the `md.mdp` input file?"
   ]
  },
  {
   "cell_type": "markdown",
   "metadata": {},
   "source": [
    "Import numpy and pyplot from matplotlib, required to read and plot the data, respectively."
   ]
  },
  {
   "cell_type": "code",
   "execution_count": null,
   "metadata": {},
   "outputs": [],
   "source": [
    "# We declare matplotlib inline to make sure it plots properly\n",
    "%matplotlib inline\n",
    "# We need to import numpy \n",
    "import numpy as np\n",
    "# We need pyplot from matplotlib to generate our plots\n",
    "from matplotlib import pyplot"
   ]
  },
  {
   "cell_type": "markdown",
   "metadata": {},
   "source": [
    "Now, using numpy, we can read the data from the `1hsg_temperature.xvg` file; the first column is the time (in ps) and the secong is the system temperature (in K)."
   ]
  },
  {
   "cell_type": "code",
   "execution_count": null,
   "metadata": {},
   "outputs": [],
   "source": [
    "# Read the file that contains the system temperature for each frame\n",
    "time=np.loadtxt(f\"{path}/1hsg_temperature.xvg\", comments=['#','@'])[:, 0]\n",
    "temperature=np.loadtxt(f\"{path}/1hsg_temperature.xvg\", comments=['#','@'])[:, 1] "
   ]
  },
  {
   "cell_type": "markdown",
   "metadata": {},
   "source": [
    "You can use numpy again to compute the average temperature and its standard deviation."
   ]
  },
  {
   "cell_type": "code",
   "execution_count": null,
   "metadata": {},
   "outputs": [],
   "source": [
    "# Calculate and print the mean temperature and the standard deviation\n",
    "# Keep only two decimal points\n",
    "mean_temperature=round(np.mean(temperature), 2)\n",
    "std_temperature=round(np.std(temperature), 2)\n",
    "print(f\"The mean temperature is {mean_temperature} ± {std_temperature} K\")"
   ]
  },
  {
   "cell_type": "markdown",
   "metadata": {},
   "source": [
    "Finally, you can plot the temperature *vs* simulation time."
   ]
  },
  {
   "cell_type": "code",
   "execution_count": null,
   "metadata": {},
   "outputs": [],
   "source": [
    "# Plot the temperature\n",
    "pyplot.plot(time, temperature, color='darkred')\n",
    "pyplot.title(\"Temperature over time\")\n",
    "pyplot.xlabel(\"Time [ps]\")\n",
    "pyplot.ylabel(\"Temperature [K]\")\n",
    "pyplot.show()"
   ]
  },
  {
   "cell_type": "markdown",
   "metadata": {},
   "source": [
    "### <span style='color:darkred'> 4.2.2 Energy of the system </span> \n",
    "\n",
    "Another set of properties that is quite useful to examine is the various energetic contributions to the energy. The total\n",
    "energy should be constant. but the various contributions can change and this can sometimes indicate something\n",
    "interesting or strange happening in your simulation. Let us look at some energetic properties of the simulation.\n",
    "\n",
    "We have already exctracted the Lennard-Jones energy, the Coulomb energy and the potential energy using again the GROMACS built-in tool `gmx energy`. The data of these three energetic components are saved in the same file called `1hsg_energies.xvg`; the first column contains the time (in ps) and the columns that follow contain the energies (in kJ/mol), in the same order as they were generated.\n",
    "\n",
    "We can now read the data from the `1hsg_energies.xvg` file using numpy."
   ]
  },
  {
   "cell_type": "code",
   "execution_count": null,
   "metadata": {},
   "outputs": [],
   "source": [
    "# Read the file that contains the various energetic components for each frame\n",
    "time=np.loadtxt(f\"{path}/1hsg_energies.xvg\", comments=['#','@'])[:, 0]\n",
    "lennard_jones=np.loadtxt(f\"{path}/1hsg_energies.xvg\", comments=['#','@'])[:, 1]\n",
    "coulomb=np.loadtxt(f\"{path}/1hsg_energies.xvg\", comments=['#','@'])[:, 2]\n",
    "potential=np.loadtxt(f\"{path}/1hsg_energies.xvg\", comments=['#','@'])[:, 3]"
   ]
  },
  {
   "cell_type": "markdown",
   "metadata": {},
   "source": [
    "And now that we read the data file, we can plot the energetic components *vs* simulation time in separate plots using matplotlib."
   ]
  },
  {
   "cell_type": "code",
   "execution_count": null,
   "metadata": {},
   "outputs": [],
   "source": [
    "# Plot the Lennard-Jones energy\n",
    "pyplot.plot(time, lennard_jones, color='blue')\n",
    "pyplot.title(\"Lennard Jones energy over time\")\n",
    "pyplot.xlabel(\"Time [ps]\")\n",
    "pyplot.ylabel(\"LJ energy [kJ/mol]\")\n",
    "pyplot.show()\n",
    "\n",
    "# Plot the electrostatic energy\n",
    "\n",
    "\n",
    "# Plot the potential energy\n"
   ]
  },
  {
   "cell_type": "markdown",
   "metadata": {},
   "source": [
    "<span style='color:Blue'> **Questions**  </span> \n",
    "\n",
    "* Can you plot the Coulomb energy and the potential energy, following the same steps as above? \n",
    "\n",
    "\n",
    "* Is the total energy stable in this simulation? \n",
    "\n",
    "\n",
    "* What is the dominant contribution to the potential energy?"
   ]
  },
  {
   "cell_type": "markdown",
   "metadata": {},
   "source": [
    "## <span style='color:darkred'> 4.3 Analysis of Protein </span>\n",
    "\n",
    "*Hint:* Ideally, you should visualize the trajectory with either VMD or NGLView and combine the information you extract from the plots with what you observe visually. That applies to all the structural analysis that you perform. So feel free at any point to go back to VMD or NGLView to verify the results you get from the analysis below.\n",
    "\n",
    "### <span style='color:darkred'> 4.3.1 Root mean square deviation (RMSD) of 1HSG </span>\n",
    "\n",
    "The RMSD gives us an idea of how 'stable' our protein is when compared to our starting, static, structure. The lower the RMSD is, the more stable we can say our protein is. \n",
    "\n",
    "The RMSD as a function of time, $\\rho (t)$, can be defined by the following equation:\n",
    "\n",
    "\\begin{equation}\n",
    "\\\\\n",
    "\\rho (t) = \\sqrt{\\frac{1}{N}\\sum^N_{i=1}w_i\\big(\\mathbf{x}_i(t) - \\mathbf{x}^{\\text{ref}}_i\\big)^2}\n",
    "\\end{equation}\n",
    "\n",
    "Luckily MDAnalysis has its own built-in function to calculate this and we can import it.\n",
    "\n"
   ]
  },
  {
   "cell_type": "code",
   "execution_count": null,
   "metadata": {},
   "outputs": [],
   "source": [
    "# Import built-in MDAnalysis tools for alignment and RMSD.\n",
    "from MDAnalysis.analysis import align\n",
    "from MDAnalysis.analysis.rms import RMSD as rmsd\n",
    "\n",
    "# Define the simulation universe and the reference structure (protein structure at first frame)\n",
    "protein = MDAnalysis.Universe(f\"{path}/md.gro\", f\"{path}/md_fit.xtc\")\n",
    "protein_ref = MDAnalysis.Universe(f\"{path}/em.gro\", f\"{path}/md_fit.xtc\")\n",
    "protein_ref.trajectory[0]\n",
    "\n",
    "# Call the MDAnalysis align function to align the MD simulation universe to the reference (first frame) universe\n",
    "align_strucs = align.AlignTraj(protein, protein_ref, select=\"backbone\", weights=\"mass\", in_memory=True, verbose=True)\n",
    "\n",
    "R = align_strucs.run()\n",
    "rmsd_data = R.rmsd\n",
    "\n",
    "# Plot the RMSD\n",
    "pyplot.plot(rmsd_data)\n",
    "pyplot.title(\"RMSD over time\")\n",
    "pyplot.xlabel(\"Frame number\")\n",
    "pyplot.ylabel(\"RMSD (Angstrom)\")\n",
    "pyplot.show()\n"
   ]
  },
  {
   "cell_type": "markdown",
   "metadata": {},
   "source": [
    "<span style='color:Blue'> **Questions**  </span> \n",
    "\n",
    "* What does this tell you about the stability of the protein? Is it in a state of equilibrium and if so why and at what time?\n",
    "\n",
    "\n",
    "* Can you think of a situation where this approach might not be a very good indication of stability?"
   ]
  },
  {
   "cell_type": "markdown",
   "metadata": {},
   "source": [
    "### <span style='color:darkred'> 4.3.2 Root mean square fluctuation (RMSF) of 1HSG </span>\n",
    "\n",
    "A similar property that is particularly useful is the root mean square fluctuation (RMSF), which shows how each residue flucuates over its average position.\n",
    "\n",
    "The RMSF for an atom, $\\rho_i$, is given by:\n",
    "\n",
    "\\begin{equation}\n",
    "\\rho_i = \\sqrt{\\sum^N_{i=1} \\big\\langle(\\mathbf{x}_i - \\langle \\mathbf{x}_i \\rangle )^2 \\big\\rangle }\n",
    "\\end{equation}"
   ]
  },
  {
   "cell_type": "code",
   "execution_count": null,
   "metadata": {},
   "outputs": [],
   "source": [
    "from MDAnalysis.analysis.rms import RMSF as rmsf\n",
    "\n",
    "# Define again the simulation universe, using however the renumbered .gro file that you had generated earlier\n",
    "protein = MDAnalysis.Universe(f\"{path}/em.gro\", f\"{path}/md_fit.xtc\")\n",
    "\n",
    "# Reset the trajectory to the first frame\n",
    "protein.trajectory[0]\n",
    "\n",
    "# We will need to select the alpha Carbons only\n",
    "calphas = protein.select_atoms(\"name CA\")\n",
    "\n",
    "# Compute the RMSF of alpha carbons. Omit the first 20 frames,\n",
    "# assuming that the system needs this amount of time (200 ps) to equilibrate\n",
    "rmsf_calc = rmsf(calphas, verbose=True).run(start=20)\n",
    "\n",
    "# Plot the RMSF\n",
    "pyplot.plot(calphas.resindices+1, rmsf_calc.rmsf, color='darkorange' )\n",
    "pyplot.title(\"Per-Residue Alpha Carbon RMSF\")\n",
    "pyplot.xlabel(\"Residue Number\")\n",
    "pyplot.ylabel(\"RMSF (Angstrom)\")\n",
    "pyplot.show()"
   ]
  },
  {
   "cell_type": "markdown",
   "metadata": {},
   "source": [
    "<span style='color:Blue'> **Questions**  </span> \n",
    "\n",
    "* Can you identify structural regions alone from this plot and does that fit in with the structure?\n",
    "\n",
    "\n",
    "* Residues 43-58 form part of the flexible flap that covers the binding site. How does this region behave in the simulation? Remember that you have a homodimer, so chain A contains residues 1-99 and chain B contains residues 100 to 198."
   ]
  },
  {
   "cell_type": "markdown",
   "metadata": {},
   "source": [
    "### <span style='color:darkred'> 4.3.3 Hydrogen Bond Formation </span>\n",
    "\n",
    "We can also use the simulation to monitor the formation of any hydrogen bonds that may be of interest.\n",
    "\n",
    "In the case of HIV-1 protease, the hydrogen bonds (HB) that are formed between the ARG8', the ASP29 and the ARG87 amino acids at the interface of the two subunits act in stabilising the dimer.\n",
    "\n",
    "We can analyse the trajectory and monitor the stability of these interactions *vs* simulation time."
   ]
  },
  {
   "cell_type": "code",
   "execution_count": null,
   "metadata": {},
   "outputs": [],
   "source": [
    "# Import the MDAnalysis built-in tool for HB Analysis\n",
    "from MDAnalysis.analysis.hydrogenbonds.hbond_analysis import HydrogenBondAnalysis as HBA\n",
    "\n",
    "# Define the protein universe\n",
    "# Note that when using this tool, it is recommended to include the .tpr file instead of the .gro file,\n",
    "# because it contains bond information, required for the identification of donors and acceptors.\n",
    "protein = MDAnalysis.Universe(f\"{path}/md.tpr\", f\"{path}/md.xtc\")\n",
    "\n",
    "# Define the atom selections for the HB calculation.\n",
    "# In this case, the ARG hydrogens and the ASP oxygens, which act as the HB acceptors are specifically defined.\n",
    "hbonds = HBA(universe=protein, hydrogens_sel='resname ARG and name HH21 HH22', acceptors_sel='resname ASP and name OD1 OD2')\n",
    "\n",
    "# Perform the HB calculation\n",
    "hbonds.run()\n",
    "    \n",
    "# Plot the total number of ASP-ARG HBs vs time\n",
    "hbonds_time=hbonds.times\n",
    "hbonds_data=hbonds.count_by_time()\n",
    "\n",
    "pyplot.plot(hbonds_time, hbonds_data, color='cyan')\n",
    "pyplot.title(\"ASP-ARG Hydrogen Bonds\")\n",
    "pyplot.xlabel(\"Time [ps]\")\n",
    "pyplot.ylabel(\"# Hydrogen Bonds\")\n",
    "pyplot.show()\n",
    "\n",
    "# Compute and print the average number of HBs and the standard deviation\n",
    "aver_hbonds=round(np.mean(hbonds_data), 2)\n",
    "std_hbonds=round(np.std(hbonds_data), 2)\n",
    "print(f\"The average number of ASP-ARG HBs is {aver_hbonds} ± {std_hbonds}\")"
   ]
  },
  {
   "cell_type": "markdown",
   "metadata": {},
   "source": [
    "<span style='color:Blue'> **Questions**  </span> \n",
    "\n",
    "* How much variation is there in the number of hydrogen bonds?\n",
    "\n",
    "\n",
    "* Do any break and not reform? \n",
    "\n",
    "\n",
    "* Using VMD, can you observe the HB formation and breakage throughout the simulation?\n",
    "\n",
    "***"
   ]
  },
  {
   "cell_type": "markdown",
   "metadata": {},
   "source": [
    "This concludes the analysis section, but the aim was only to give you an idea of the numerous information that we can gain when analysing an MD trajectory. Feel free to ask and attempt to answer your own questions, utilising the tools that you were introduced to during the tutorial."
   ]
  },
  {
   "cell_type": "markdown",
   "metadata": {},
   "source": [
    "## <span style='color:darkred'> 4.4 Further Reading </span>\n",
    "\n",
    "\n",
    "The texts recommended here are the same as those mentioned in the lecture:\n",
    "* \"Molecular Modelling. Principles and Applications\". Andrew Leach. Publisher: Prentice Hall. ISBN: 0582382106. This book has rapidly become the defacto introductory text for all aspects of simulation.\n",
    "* \"Computer simulation of liquids\". Allen, Michael P., and Dominic J. Tildesley. Oxford university press, 2017.\n",
    "* \"Molecular Dynamics Simulation: Elementary Methods\". J.M. Haile. Publisher: Wiley. ISBN: 047118439X. This text provides a more focus but slightly more old-fashioned view of simulation. It has some nice simple examples of how to code (in fortran) some of the algorithms though.\n"
   ]
  },
  {
   "cell_type": "markdown",
   "metadata": {},
   "source": [
    "## <span style='color:darkred'> End of Tutorial </span>\n",
    "\n",
    "Congratulations, you have finished the MD tutorial. Hopefully, by you are familiar with the molecular dynamics method, the GROMACS software that we have used to perform the simulation, and you have an idea of the type of information that we can extract from an MD run and how we can visualize, compute and plot the data of interest."
   ]
  }
 ],
 "metadata": {
  "kernelspec": {
   "display_name": "Python 3",
   "language": "python",
   "name": "python3"
  },
  "language_info": {
   "codemirror_mode": {
    "name": "ipython",
    "version": 3
   },
   "file_extension": ".py",
   "mimetype": "text/x-python",
   "name": "python",
   "nbconvert_exporter": "python",
   "pygments_lexer": "ipython3",
   "version": "3.7.8"
  }
 },
 "nbformat": 4,
 "nbformat_minor": 1
}
